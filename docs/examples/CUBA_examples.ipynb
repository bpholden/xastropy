{
 "cells": [
  {
   "cell_type": "markdown",
   "metadata": {},
   "source": [
    "# Examples for the CUBA Class\n",
    "\n",
    "## Designed to work with the CUBA output from Haardt & Madau"
   ]
  },
  {
   "cell_type": "code",
   "execution_count": 1,
   "metadata": {
    "collapsed": false
   },
   "outputs": [
    {
     "name": "stdout",
     "output_type": "stream",
     "text": [
      "-----------------------------------------------------------\n",
      "-----------------------------------------------------------\n",
      "WARNING: Not loading model in xastropy.fN   \n",
      " Install pymc if you want it\n",
      "-----------------------------------------------------------\n"
     ]
    },
    {
     "name": "stderr",
     "output_type": "stream",
     "text": [
      "/Users/xavier/anaconda/lib/python2.7/site-packages/astroquery/sdss/__init__.py:33: UserWarning: Experimental: SDSS has not yet been refactored to have its API match the rest of astroquery (but it's nearly there).\n",
      "  warnings.warn(\"Experimental: SDSS has not yet been refactored to have its API \"\n"
     ]
    }
   ],
   "source": [
    "# import\n",
    "from xastropy.igm import cuba as xcuba # Location may move"
   ]
  },
  {
   "cell_type": "markdown",
   "metadata": {},
   "source": [
    "## Initialize"
   ]
  },
  {
   "cell_type": "code",
   "execution_count": 104,
   "metadata": {
    "collapsed": false
   },
   "outputs": [
    {
     "name": "stdout",
     "output_type": "stream",
     "text": [
      "read_cuba: Using CUBA file -- /Users/xavier/local/Python/xastropy/xastropy/data/quasar/cuba_uvbapr2011_q1g01.hiz.out\n"
     ]
    },
    {
     "data": {
      "text/plain": [
       "[CUBA: cuba_file=/Users/xavier/local/Python/xastropy/xastropy/data/quasar/cuba_uvbapr2011_q1g01.hiz.out]"
      ]
     },
     "execution_count": 104,
     "metadata": {},
     "output_type": "execute_result"
    }
   ],
   "source": [
    "reload(xcuba)\n",
    "cuba = xcuba.CUBA()\n",
    "cuba"
   ]
  },
  {
   "cell_type": "markdown",
   "metadata": {},
   "source": [
    "## Data in Attributes"
   ]
  },
  {
   "cell_type": "code",
   "execution_count": 59,
   "metadata": {
    "collapsed": false
   },
   "outputs": [
    {
     "data": {
      "text/plain": [
       "array([ 0.     ,  0.04912,  0.1006 ,  0.1547 ,  0.2114 ,  0.2709 ,\n",
       "        0.3333 ,  0.3988 ,  0.4675 ,  0.5396 ])"
      ]
     },
     "execution_count": 59,
     "metadata": {},
     "output_type": "execute_result"
    }
   ],
   "source": [
    "# Redshifts\n",
    "cuba.z[0:10]"
   ]
  },
  {
   "cell_type": "code",
   "execution_count": 60,
   "metadata": {
    "collapsed": false
   },
   "outputs": [
    {
     "data": {
      "text/latex": [
       "$[0.0002481,~0.001489,~0.001562,~0.001639,~0.00172,~0.001804,~0.001893,~0.001986,~0.002083,~0.002186] \\; \\mathrm{\\mathring{A}}$"
      ],
      "text/plain": [
       "<Quantity [ 0.0002481, 0.001489 , 0.001562 , 0.001639 , 0.00172  ,\n",
       "            0.001804 , 0.001893 , 0.001986 , 0.002083 , 0.002186 ] Angstrom>"
      ]
     },
     "execution_count": 60,
     "metadata": {},
     "output_type": "execute_result"
    }
   ],
   "source": [
    "# Wavelengths\n",
    "cuba.wave[0:10]"
   ]
  },
  {
   "cell_type": "code",
   "execution_count": 61,
   "metadata": {
    "collapsed": false
   },
   "outputs": [
    {
     "data": {
      "text/latex": [
       "$[1.196 \\times 10^{-33},~1.424 \\times 10^{-32},~1.535 \\times 10^{-32},~1.655 \\times 10^{-32},~1.785 \\times 10^{-32},~1.924 \\times 10^{-32},~2.075 \\times 10^{-32},~2.237 \\times 10^{-32},~2.412 \\times 10^{-32},~2.6 \\times 10^{-32}] \\; \\mathrm{\\frac{erg}{s\\,cm^{2}}}$"
      ],
      "text/plain": [
       "<Quantity [  1.19600000e-33,  1.42400000e-32,  1.53500000e-32,\n",
       "             1.65500000e-32,  1.78500000e-32,  1.92400000e-32,\n",
       "             2.07500000e-32,  2.23700000e-32,  2.41200000e-32,\n",
       "             2.60000000e-32] erg / (cm2 s)>"
      ]
     },
     "execution_count": 61,
     "metadata": {},
     "output_type": "execute_result"
    }
   ],
   "source": [
    "# Jnu\n",
    "cuba.Jnu[0:10,0]"
   ]
  },
  {
   "cell_type": "markdown",
   "metadata": {},
   "source": [
    "## Quick Plot"
   ]
  },
  {
   "cell_type": "code",
   "execution_count": 62,
   "metadata": {
    "collapsed": true
   },
   "outputs": [],
   "source": [
    "%matplotlib inline"
   ]
  },
  {
   "cell_type": "code",
   "execution_count": 107,
   "metadata": {
    "collapsed": false
   },
   "outputs": [
    {
     "data": {
      "image/png": "[encoded data removed]",
      "text/plain": [
       "<matplotlib.figure.Figure at 0x111c77310>"
      ]
     },
     "metadata": {},
     "output_type": "display_data"
    }
   ],
   "source": [
    "cuba.plot(2.1,xlim=(0.1,10))"
   ]
  },
  {
   "cell_type": "markdown",
   "metadata": {},
   "source": [
    "## Interpolate on redshift"
   ]
  },
  {
   "cell_type": "code",
   "execution_count": 113,
   "metadata": {
    "collapsed": false
   },
   "outputs": [
    {
     "data": {
      "text/latex": [
       "$[1.3653469 \\times 10^{-19},~1.3393469 \\times 10^{-19},~1.3139388 \\times 10^{-19},~1.2889388 \\times 10^{-19},~1.2649388 \\times 10^{-19}] \\; \\mathrm{\\frac{erg}{s\\,cm^{2}}}$"
      ],
      "text/plain": [
       "<Quantity [  1.36534694e-19,  1.33934694e-19,  1.31393878e-19,\n",
       "             1.28893878e-19,  1.26493878e-19] erg / (cm2 s)>"
      ]
     },
     "execution_count": 113,
     "metadata": {},
     "output_type": "execute_result"
    }
   ],
   "source": [
    "jnu = cuba.zinterp_jnu(2.1)\n",
    "jnu[0:5]"
   ]
  },
  {
   "cell_type": "markdown",
   "metadata": {},
   "source": [
    "## Phi (Photon flux)"
   ]
  },
  {
   "cell_type": "code",
   "execution_count": 119,
   "metadata": {
    "collapsed": false
   },
   "outputs": [
    {
     "name": "stdout",
     "output_type": "stream",
     "text": [
      "cuba.phi: Assuming minimum energy = 13.6057 eV\n",
      "Ionizing flux = 95459.4 1 / (cm2 s)\n"
     ]
    }
   ],
   "source": [
    "phi = cuba.phi(2.1)#,min_energy=50*u.eV)\n",
    "print('Ionizing flux = {:g}'.format(phi))"
   ]
  },
  {
   "cell_type": "markdown",
   "metadata": {},
   "source": [
    "### Matches JFH IDL code to 1%"
   ]
  },
  {
   "cell_type": "code",
   "execution_count": 118,
   "metadata": {
    "collapsed": false
   },
   "outputs": [
    {
     "name": "stdout",
     "output_type": "stream",
     "text": [
      "8171.47189724 1 / (cm2 s)\n"
     ]
    }
   ],
   "source": [
    "print(phi)"
   ]
  },
  {
   "cell_type": "code",
   "execution_count": null,
   "metadata": {
    "collapsed": true
   },
   "outputs": [],
   "source": []
  }
 ],
 "metadata": {
  "kernelspec": {
   "display_name": "Python 2",
   "language": "python",
   "name": "python2"
  },
  "language_info": {
   "codemirror_mode": {
    "name": "ipython",
    "version": 2
   },
   "file_extension": ".py",
   "mimetype": "text/x-python",
   "name": "python",
   "nbconvert_exporter": "python",
   "pygments_lexer": "ipython2",
   "version": "2.7.10"
  }
 },
 "nbformat": 4,
 "nbformat_minor": 0
}
