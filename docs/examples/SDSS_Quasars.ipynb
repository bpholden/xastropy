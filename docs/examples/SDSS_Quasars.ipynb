{
 "cells": [
  {
   "cell_type": "markdown",
   "metadata": {},
   "source": [
    "# Examples for reading SDSS Quasar Database"
   ]
  },
  {
   "cell_type": "code",
   "execution_count": 41,
   "metadata": {
    "collapsed": false
   },
   "outputs": [],
   "source": [
    "# imports\n",
    "from xastropy.sdss import quasars as sdssq\n",
    "from xastropy.sdss import qso as sdssqso"
   ]
  },
  {
   "cell_type": "markdown",
   "metadata": {},
   "source": [
    "## Generate the Class"
   ]
  },
  {
   "cell_type": "code",
   "execution_count": 37,
   "metadata": {
    "collapsed": false
   },
   "outputs": [
    {
     "name": "stdout",
     "output_type": "stream",
     "text": [
      "SDSS_QUASAR: Using summary file /u/xavier/SDSS//DR7_QSO/dr7_qso.fits.gz\n"
     ]
    }
   ],
   "source": [
    "reload(sdssq)\n",
    "sdss_dr7 = sdssq.SdssQuasars()"
   ]
  },
  {
   "cell_type": "code",
   "execution_count": 38,
   "metadata": {
    "collapsed": false
   },
   "outputs": [
    {
     "data": {
      "text/plain": [
       "[SdssQuasars: Version=DR7]"
      ]
     },
     "execution_count": 38,
     "metadata": {},
     "output_type": "execute_result"
    }
   ],
   "source": [
    "sdss_dr7"
   ]
  },
  {
   "cell_type": "markdown",
   "metadata": {},
   "source": [
    "## Grab by Plate/Fiber or Name"
   ]
  },
  {
   "cell_type": "code",
   "execution_count": 35,
   "metadata": {
    "collapsed": false
   },
   "outputs": [
    {
     "data": {
      "text/html": [
       "&lt;QTable masked=False length=1&gt;\n",
       "<table id=\"table4482314128\">\n",
       "<thead><tr><th>Z</th><th>Z_ERR</th><th>Z_CONF</th><th>Z_WARN</th><th>PLATE</th><th>MJD</th><th>FIBERID</th><th>FLG_TARG</th><th>RAOBJ</th><th>DECOBJ</th><th>PSF_U</th><th>PSF_G</th><th>PSF_R</th><th>PSF_I</th><th>PSF_Z</th><th>PSF_SU</th><th>PSF_SG</th><th>PSF_SR</th><th>PSF_SI</th><th>PSF_SZ</th></tr></thead>\n",
       "<thead><tr><th>float32</th><th>float32</th><th>float32</th><th>int16</th><th>int32</th><th>int32</th><th>int32</th><th>int16</th><th>float64</th><th>float64</th><th>float32</th><th>float32</th><th>float32</th><th>float32</th><th>float32</th><th>float32</th><th>float32</th><th>float32</th><th>float32</th><th>float32</th></tr></thead>\n",
       "<tr><td>0.331188</td><td>0.00179699</td><td>0.0</td><td>0</td><td>287</td><td>52023</td><td>264</td><td>0</td><td>182.68148</td><td>-0.65201896</td><td>20.0461</td><td>20.1288</td><td>19.46</td><td>19.2803</td><td>18.6533</td><td>0.049576</td><td>0.03244</td><td>0.034281</td><td>0.038232</td><td>0.042613</td></tr>\n",
       "</table>"
      ],
      "text/plain": [
       "<QTable masked=False length=1>\n",
       "   Z       Z_ERR     Z_CONF Z_WARN PLATE ...  PSF_SG  PSF_SR   PSF_SI   PSF_SZ \n",
       "float32   float32   float32 int16  int32 ... float32 float32  float32  float32 \n",
       "-------- ---------- ------- ------ ----- ... ------- -------- -------- --------\n",
       "0.331188 0.00179699     0.0      0   287 ... 0.03244 0.034281 0.038232 0.042613"
      ]
     },
     "execution_count": 35,
     "metadata": {},
     "output_type": "execute_result"
    }
   ],
   "source": [
    "row = sdss_dr7.get_qso((287,264))\n",
    "row"
   ]
  },
  {
   "cell_type": "code",
   "execution_count": 36,
   "metadata": {
    "collapsed": false
   },
   "outputs": [
    {
     "data": {
      "text/html": [
       "&lt;QTable masked=False length=1&gt;\n",
       "<table id=\"table4434919184\">\n",
       "<thead><tr><th>Z</th><th>Z_ERR</th><th>Z_CONF</th><th>Z_WARN</th><th>PLATE</th><th>MJD</th><th>FIBERID</th><th>FLG_TARG</th><th>RAOBJ</th><th>DECOBJ</th><th>PSF_U</th><th>PSF_G</th><th>PSF_R</th><th>PSF_I</th><th>PSF_Z</th><th>PSF_SU</th><th>PSF_SG</th><th>PSF_SR</th><th>PSF_SI</th><th>PSF_SZ</th></tr></thead>\n",
       "<thead><tr><th>float32</th><th>float32</th><th>float32</th><th>int16</th><th>int32</th><th>int32</th><th>int32</th><th>int16</th><th>float64</th><th>float64</th><th>float32</th><th>float32</th><th>float32</th><th>float32</th><th>float32</th><th>float32</th><th>float32</th><th>float32</th><th>float32</th><th>float32</th></tr></thead>\n",
       "<tr><td>1.84493</td><td>0.00199866</td><td>0.0</td><td>0</td><td>650</td><td>52143</td><td>199</td><td>0</td><td>0.03926445</td><td>-10.46441</td><td>19.2416</td><td>19.0187</td><td>18.9659</td><td>18.7754</td><td>18.7046</td><td>0.035869</td><td>0.027196</td><td>0.021356</td><td>0.018248</td><td>0.046806</td></tr>\n",
       "</table>"
      ],
      "text/plain": [
       "<QTable masked=False length=1>\n",
       "   Z      Z_ERR     Z_CONF Z_WARN PLATE ...  PSF_SG   PSF_SR   PSF_SI   PSF_SZ \n",
       "float32  float32   float32 int16  int32 ... float32  float32  float32  float32 \n",
       "------- ---------- ------- ------ ----- ... -------- -------- -------- --------\n",
       "1.84493 0.00199866     0.0      0   650 ... 0.027196 0.021356 0.018248 0.046806"
      ]
     },
     "execution_count": 36,
     "metadata": {},
     "output_type": "execute_result"
    }
   ],
   "source": [
    "## By name\n",
    "row = sdss_dr7.get_qso('J000009.42-102751.9')\n",
    "row"
   ]
  },
  {
   "cell_type": "markdown",
   "metadata": {},
   "source": [
    "## Generate a QSO Object"
   ]
  },
  {
   "cell_type": "code",
   "execution_count": 80,
   "metadata": {
    "collapsed": false
   },
   "outputs": [
    {
     "data": {
      "text/plain": [
       "[SdssQso: 00:00:00 +00:00:00, z=0]"
      ]
     },
     "execution_count": 80,
     "metadata": {},
     "output_type": "execute_result"
    }
   ],
   "source": [
    "## Simple\n",
    "reload(sdssqso)\n",
    "qso = sdssqso.SdssQso()\n",
    "qso"
   ]
  },
  {
   "cell_type": "code",
   "execution_count": 82,
   "metadata": {
    "collapsed": false
   },
   "outputs": [
    {
     "name": "stdout",
     "output_type": "stream",
     "text": [
      "SDSS_QUASAR: Using summary file /u/xavier/SDSS//DR7_QSO/dr7_qso.fits.gz\n"
     ]
    },
    {
     "data": {
      "text/plain": [
       "[SdssQso: 12:10:43.5552 -00:39:07.2683, z=0.331188]"
      ]
     },
     "execution_count": 82,
     "metadata": {},
     "output_type": "execute_result"
    }
   ],
   "source": [
    "## From the Database Class\n",
    "reload(sdssq)\n",
    "reload(sdssqso)\n",
    "sdss_dr7 = sdssq.SdssQuasars()\n",
    "qso = sdss_dr7[(287,264)]\n",
    "qso"
   ]
  },
  {
   "cell_type": "markdown",
   "metadata": {},
   "source": [
    "### Load Spectrum"
   ]
  },
  {
   "cell_type": "code",
   "execution_count": 73,
   "metadata": {
    "collapsed": false
   },
   "outputs": [
    {
     "name": "stdout",
     "output_type": "stream",
     "text": [
      "SdssQso: Loading spectrum from /u/xavier/SDSS//DR7_QSO/spectro/1d_26/0287/1d/spSpec-52023-0287-264.fit\n"
     ]
    }
   ],
   "source": [
    "qso.load_spec()\n",
    "#qso.spec.plot()"
   ]
  },
  {
   "cell_type": "code",
   "execution_count": 70,
   "metadata": {
    "collapsed": true
   },
   "outputs": [],
   "source": []
  },
  {
   "cell_type": "markdown",
   "metadata": {},
   "source": [
    "### Sandbox"
   ]
  },
  {
   "cell_type": "code",
   "execution_count": 3,
   "metadata": {
    "collapsed": false
   },
   "outputs": [
    {
     "data": {
      "text/html": [
       "&lt;QTable masked=False length=3&gt;\n",
       "<table id=\"table4434916624\">\n",
       "<thead><tr><th>Z</th><th>Z_ERR</th><th>Z_CONF</th><th>Z_WARN</th><th>PLATE</th><th>MJD</th><th>FIBERID</th><th>FLG_TARG</th><th>RAOBJ</th><th>DECOBJ</th><th>PSF_U</th><th>PSF_G</th><th>PSF_R</th><th>PSF_I</th><th>PSF_Z</th><th>PSF_SU</th><th>PSF_SG</th><th>PSF_SR</th><th>PSF_SI</th><th>PSF_SZ</th></tr></thead>\n",
       "<thead><tr><th>float32</th><th>float32</th><th>float32</th><th>int16</th><th>int32</th><th>int32</th><th>int32</th><th>int16</th><th>float64</th><th>float64</th><th>float32</th><th>float32</th><th>float32</th><th>float32</th><th>float32</th><th>float32</th><th>float32</th><th>float32</th><th>float32</th><th>float32</th></tr></thead>\n",
       "<tr><td>0.331188</td><td>0.00179699</td><td>0.0</td><td>0</td><td>287</td><td>52023</td><td>264</td><td>0</td><td>182.68148</td><td>-0.65201896</td><td>20.0461</td><td>20.1288</td><td>19.46</td><td>19.2803</td><td>18.6533</td><td>0.049576</td><td>0.03244</td><td>0.034281</td><td>0.038232</td><td>0.042613</td></tr>\n",
       "<tr><td>0.332475</td><td>0.000957323</td><td>0.0</td><td>0</td><td>277</td><td>51908</td><td>70</td><td>0</td><td>166.25829</td><td>-0.74849605</td><td>19.8404</td><td>19.7542</td><td>19.2126</td><td>18.9581</td><td>18.4499</td><td>0.043795</td><td>0.0422</td><td>0.034018</td><td>0.026109</td><td>0.036945</td></tr>\n",
       "<tr><td>0.37957</td><td>0.00156732</td><td>0.0</td><td>0</td><td>303</td><td>51615</td><td>54</td><td>0</td><td>213.86771</td><td>-1.0875114</td><td>20.0745</td><td>19.9341</td><td>19.4695</td><td>18.9985</td><td>18.2755</td><td>0.04626</td><td>0.025193</td><td>0.019835</td><td>0.029198</td><td>0.030035</td></tr>\n",
       "</table>"
      ],
      "text/plain": [
       "<QTable masked=False length=3>\n",
       "   Z        Z_ERR     Z_CONF Z_WARN ...  PSF_SG   PSF_SR   PSF_SI   PSF_SZ \n",
       "float32    float32   float32 int16  ... float32  float32  float32  float32 \n",
       "-------- ----------- ------- ------ ... -------- -------- -------- --------\n",
       "0.331188  0.00179699     0.0      0 ...  0.03244 0.034281 0.038232 0.042613\n",
       "0.332475 0.000957323     0.0      0 ...   0.0422 0.034018 0.026109 0.036945\n",
       " 0.37957  0.00156732     0.0      0 ... 0.025193 0.019835 0.029198 0.030035"
      ]
     },
     "execution_count": 3,
     "metadata": {},
     "output_type": "execute_result"
    }
   ],
   "source": [
    "path = os.getenv('SDSSPATH')+'/DR7_QSO/' \n",
    "summf = path+'dr7_qso.fits.gz'\n",
    "datdir = path+'spectro/1d_26/'\n",
    "sdss = QTable.read(summf)\n",
    "sdss[0:3]"
   ]
  },
  {
   "cell_type": "code",
   "execution_count": 5,
   "metadata": {
    "collapsed": false
   },
   "outputs": [
    {
     "data": {
      "text/plain": [
       "'dr7'"
      ]
     },
     "execution_count": 5,
     "metadata": {},
     "output_type": "execute_result"
    }
   ],
   "source": [
    "tmp = 'DR7'\n",
    "tmp.lower()"
   ]
  },
  {
   "cell_type": "code",
   "execution_count": null,
   "metadata": {
    "collapsed": true
   },
   "outputs": [],
   "source": []
  }
 ],
 "metadata": {
  "kernelspec": {
   "display_name": "Python 2",
   "language": "python",
   "name": "python2"
  },
  "language_info": {
   "codemirror_mode": {
    "name": "ipython",
    "version": 2
   },
   "file_extension": ".py",
   "mimetype": "text/x-python",
   "name": "python",
   "nbconvert_exporter": "python",
   "pygments_lexer": "ipython2",
   "version": "2.7.10"
  }
 },
 "nbformat": 4,
 "nbformat_minor": 0
}
