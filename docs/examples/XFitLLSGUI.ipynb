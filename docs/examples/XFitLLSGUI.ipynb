{
 "cells": [
  {
   "cell_type": "markdown",
   "metadata": {},
   "source": [
    "# Notes on the XFitLLSGUI (v0.3)"
   ]
  },
  {
   "cell_type": "markdown",
   "metadata": {},
   "source": [
    "## Quick background\n",
    "\n",
    "This GUI is based on one originally built by JXP and JMO to\n",
    "enable the manual fitting of LLS in absorption line spectra.\n",
    "That GUI was applied to real and mock data for a number of \n",
    "LLS surveys.\n",
    "\n",
    "This Python-based incantation follows that prescription, by\n",
    "and large."
   ]
  },
  {
   "cell_type": "markdown",
   "metadata": {},
   "source": [
    "## Launching the GUI\n",
    "\n",
    "The GUI is instantiated through the XFitLLSGUI class\n",
    "which combines several widgets.  I give a few examples\n",
    "below."
   ]
  },
  {
   "cell_type": "markdown",
   "metadata": {},
   "source": [
    "### From within ipython \n",
    "Need to pass the call a spectrum file or the XSpectrum1D \n",
    "object itself.\n",
    "\n",
    "**WARNING:** -- You cannot use inline matplotlib (I think)"
   ]
  },
  {
   "cell_type": "code",
   "execution_count": null,
   "metadata": {
    "collapsed": true
   },
   "outputs": [],
   "source": [
    "from xastropy.xguis import spec_guis as xxsg\n",
    "reload(xxsg)\n",
    "#\n",
    "spec_fil = '/Users/xavier/VLT/XShooter/LP/idl_reduced_frames/0952-0115_uvb_coadd_vbin_flx.fits'\n",
    "xxsg.run_fitlls(spec_fil)"
   ]
  },
  {
   "cell_type": "markdown",
   "metadata": {},
   "source": [
    "### Command line call -- Recommended\n",
    "\n",
    "Run spec_guis with the '4' flag\n",
    "\n",
    "I recommend you generate an alias like this:\n",
    "\n",
    "    alias xfitlls 'python ~/xastropy/xastropy/xguis/spec_guis.py 4'\n",
    "\n",
    "Then it is as simple as:\n",
    "\n",
    "    unix> xfitlls 0952-0115_uvb_coadd_vbin_flx.fits\n",
    "    \n",
    "Here is the current help:\n",
    "\n",
    "    usage: spec_guis.py [-h] [-out_file OUT_FILE] [-smooth SMOOTH] flag in_file\n",
    "\n",
    "    Parser for XFitLLSGUI\n",
    "\n",
    "    positional arguments:\n",
    "      flag                GUI flag (ignored)\n",
    "      in_file             Spectral file\n",
    "\n",
    "    optional arguments:\n",
    "      -h, --help          show this help message and exit\n",
    "      -out_file OUT_FILE  LLS Fit file\n",
    "      -smooth SMOOTH      Smoothing (pixels)\n",
    "      -lls_fit_file LLS_FIT_FILE\n",
    "                          Input LLS Fit file\n",
    "      -zqso ZQSO            Use Telfer template with zqso                          "
   ]
  },
  {
   "cell_type": "markdown",
   "metadata": {},
   "source": [
    "---\n",
    "## Fiddling about with the GUI"
   ]
  },
  {
   "cell_type": "markdown",
   "metadata": {},
   "source": [
    "### Basics\n",
    "The GUI has been built to enable a user to overlay a series\n",
    "of LLS 'models' on a spectrum, including a continuum.  The\n",
    "LLS is modeled by the Lyman series to Lyman-30, with a traditional\n",
    "N,b,z parameterization and then continuum opacity beyond the Limit.\n",
    "There is a \"kludge\" implemented to cover the gap between Lyman-30\n",
    "and the LL.\n",
    "\n",
    "Here is an overview of using the GUI:\n",
    "\n",
    "(1) Most of the action occurs in the plot window.  \n",
    "\n",
    "(2) The obvious exceptions are when you wish to change\n",
    "between LLS for fiddling their parameters.  For that,\n",
    "you need to select the LLS in the list widget.\n",
    "\n",
    "(3) You can modify redshift, N_HI or bval in the boxes provided.\n",
    "\n",
    "(4) Lastly, you can Write, Write+Quit, or Quit with the \n",
    "boxes at the bottom right.\n",
    "\n",
    "**Note:** You have to click in the plot window for key strokes\n",
    "to take effect.  This includes after actions that engage the LLS list widget."
   ]
  },
  {
   "cell_type": "markdown",
   "metadata": {},
   "source": [
    "### Navigating\n",
    "These key strokes for navigating the spectral window\n",
    "are identical to those for the XSpecGUI.\n",
    "Please refer to its documentation.  "
   ]
  },
  {
   "cell_type": "markdown",
   "metadata": {},
   "source": [
    "### LLS commands\n",
    "\n",
    "* A -- Add a new LLS\n",
    "* D -- Delete the selected LLS\n",
    "* n/N -- Decrease/increase the N_HI column by 0.05dex of the selected LLS\n",
    "* v/V -- Decrease/increase the b-value by 2 km/s\n",
    "* a -- Set the LLS redshift such that the cursor is at Lya\n",
    "* L -- Set the LLS redshift such that the cursor is at the LL\n",
    "* @ -- Toggle marking strong lines (e.g. CII 1334, CIV)"
   ]
  },
  {
   "cell_type": "markdown",
   "metadata": {},
   "source": [
    "### Continuum commands\n",
    "\n",
    "* C -- Fiddle with the normalization\n",
    "* 1/2 -- Tilt the continuum with a power-law pivoting about the median wavelength value\n"
   ]
  },
  {
   "cell_type": "markdown",
   "metadata": {},
   "source": [
    "### Other\n",
    "\n",
    "* 6,7,8,9 -- Add a Lya forest line (and Lyb,Lyg) at this location with NHI=12,13,14, or 15"
   ]
  },
  {
   "cell_type": "markdown",
   "metadata": {},
   "source": [
    "---\n",
    "## Output/Input\n",
    "\n",
    "When you Write or Write+Quit, a JSON output file is generated\n",
    "that saves the LLS parameters, the continuum parameters and a\n",
    "few other bits and pieces.  Here is an example:\n",
    "\n",
    "{\n",
    "    \"LLS\": {\n",
    "        \"1\": {\n",
    "            \"NHI\": 17.3,\n",
    "            \"bval\": 42.0,\n",
    "            \"z\": 4.1348662134175811\n",
    "        }\n",
    "    },\n",
    "    \"conti\": {\n",
    "        \"Norm\": 6.6073753071076802e-18,\n",
    "        \"piv_wv\": 4166.4861195151479,\n",
    "        \"tilt\": 0.0\n",
    "    },\n",
    "    \"smooth\": 2.5,\n",
    "    \"spec_file\": \"0952-0115_uvb_coadd_vbin_flx.fits\"\n",
    "}\n"
   ]
  },
  {
   "cell_type": "markdown",
   "metadata": {},
   "source": [
    "### Reading a previous fit\n",
    "\n",
    "Just pass the JSON file to lls_file, e.g.\n",
    "\n",
    "    unix> xfitlls 0952-0115_uvb_coadd_vbin_flx.fits -lls_fit_file=tmp.json"
   ]
  },
  {
   "cell_type": "markdown",
   "metadata": {
    "collapsed": true
   },
   "source": [
    "## Testing"
   ]
  },
  {
   "cell_type": "code",
   "execution_count": 3,
   "metadata": {
    "collapsed": false
   },
   "outputs": [
    {
     "name": "stdout",
     "output_type": "stream",
     "text": [
      "2.0059970185\n"
     ]
    }
   ],
   "source": [
    "#LL Opacity\n",
    "from xastropy.atomic import ionization as xatomi\n",
    "wv_rest = 911.5*u.AA\n",
    "energy = wv_rest.to(u.eV, equivalencies=u.spectral())\n",
    "tau_LL = (10.**17.5 / u.cm**2) * xatomi.photo_cross(1,1,energy)\n",
    "print(tau_LL)\n",
    "# XIDL gives 2.0060005 -- Close enough\n",
    "#tau_eng = c.h*c.c/(tau_wv*1e-8) / c.ev ; eV\n",
    "#tau_LL = 10.^(16+tau_id*delta_N) * x_photocross(1,1, tau_eng) "
   ]
  },
  {
   "cell_type": "code",
   "execution_count": 1,
   "metadata": {
    "collapsed": false
   },
   "outputs": [
    {
     "name": "stderr",
     "output_type": "stream",
     "text": [
      "WARNING: UnitsWarning: The unit 'Angstrom' has been deprecated in the FITS standard. Suggested: nm (with data multiplied by 0.1). [astropy.units.format.utils]\n",
      "WARNING:astropy:UnitsWarning: The unit 'Angstrom' has been deprecated in the FITS standard. Suggested: nm (with data multiplied by 0.1).\n"
     ]
    },
    {
     "name": "stdout",
     "output_type": "stream",
     "text": [
      "linetools.lists.parse: Reading linelist --- \n",
      "   /Users/xavier/local/Python/linetools/linetools/data/lines/morton03_table2.fits.gz\n",
      "linetools.lists.parse: Reading linelist --- \n",
      "   /Users/xavier/local/Python/linetools/linetools/data/lines/morton00_table2.fits.gz\n",
      "linetools.lists.parse: Reading linelist --- \n",
      "   /Users/xavier/local/Python/linetools/linetools/data/lines/verner94_tab6.fits\n",
      "linetools.lists.parse: Reading linelist --- \n",
      "   /Users/xavier/local/Python/linetools/linetools/data/lines/EUV_lines.ascii\n",
      "read_sets: Using set file -- \n",
      "  /Users/xavier/local/Python/linetools/linetools/lists/sets/llist_v0.3.ascii\n"
     ]
    }
   ],
   "source": [
    "#Lyman-a\n",
    "#line = x_setline(1215.6701)\n",
    "#line.N=17.5\n",
    "#line.b=20.\n",
    "# wave = 1200. + findgen(40000)*0.001\n",
    "# vgt = x_voigt(wave,line,tau=tau,/nosmooth)\n",
    "# tau peaks at 11978.7\n",
    "from linetools.spectralline import AbsLine\n",
    "lya = AbsLine('HI 1215')\n",
    "lya.attrib['N'] = 17.5\n",
    "lya.attrib['b'] = 20.*u.km/u.s"
   ]
  },
  {
   "cell_type": "code",
   "execution_count": 2,
   "metadata": {
    "collapsed": false
   },
   "outputs": [
    {
     "data": {
      "text/plain": [
       "{'A': <Quantity 626500000.0 1 / s>,\n",
       " 'Am': 0,\n",
       " 'Ej': <Quantity 0.0 1 / cm>,\n",
       " 'Ek': <Quantity 2259.163 1 / cm>,\n",
       " 'Ex': <Quantity 0.0 1 / cm>,\n",
       " 'Jj': 0.0,\n",
       " 'Jk': 0.0,\n",
       " 'Ref': 'Morton2003',\n",
       " 'Z': 1,\n",
       " 'col0': masked,\n",
       " 'col6': masked,\n",
       " 'el': 0,\n",
       " 'f': 0.41639999999999999,\n",
       " 'gamma': <Quantity 626500000.0 1 / s>,\n",
       " 'gj': 2,\n",
       " 'gk': 6,\n",
       " 'group': 1,\n",
       " 'ion': 1,\n",
       " 'mol': '',\n",
       " 'name': 'HI 1215',\n",
       " 'nj': 0,\n",
       " 'nk': 0,\n",
       " 'wrest': <Quantity 1215.67 Angstrom>}"
      ]
     },
     "execution_count": 2,
     "metadata": {},
     "output_type": "execute_result"
    }
   ],
   "source": [
    "lya.data"
   ]
  },
  {
   "cell_type": "code",
   "execution_count": 13,
   "metadata": {
    "collapsed": false
   },
   "outputs": [],
   "source": [
    "from xastropy.spec import voigt as xsv\n",
    "from linetools.spectra.xspectrum1d import XSpectrum1D\n",
    "reload(xsv)\n",
    "wv = np.arange(lya.wrest.value-10.,lya.wrest.value+10,0.001)\n",
    "npix = len(wv)\n",
    "spec = XSpectrum1D.from_tuple((wv, np.ones(npix)))\n",
    "tau = xsv.voigt_model(spec,lya,flg_ret=2)\n",
    "# Max at ~6760!\n",
    "# Now at 11974. Thank goodness.."
   ]
  },
  {
   "cell_type": "code",
   "execution_count": 14,
   "metadata": {
    "collapsed": false
   },
   "outputs": [
    {
     "data": {
      "text/latex": [
       "$11978.778 \\; \\mathrm{}$"
      ],
      "text/plain": [
       "<Quantity 11978.778244304596>"
      ]
     },
     "execution_count": 14,
     "metadata": {},
     "output_type": "execute_result"
    }
   ],
   "source": [
    "np.max(tau)"
   ]
  },
  {
   "cell_type": "code",
   "execution_count": 12,
   "metadata": {
    "collapsed": false
   },
   "outputs": [
    {
     "name": "stdout",
     "output_type": "stream",
     "text": [
      "[ 0.99965815  0.36790545]\n"
     ]
    }
   ],
   "source": [
    "# Voigt\n",
    "# IDL for print,voigt(0.0003030379,0.)=0.999658\n",
    "avoigt = 0.0003030378771933264 # Same a in each evaluation\n",
    "vking=xsv.voigtking(np.array([0.,1.]),avoigt)\n",
    "print(vking)"
   ]
  },
  {
   "cell_type": "code",
   "execution_count": 9,
   "metadata": {
    "collapsed": false
   },
   "outputs": [
    {
     "data": {
      "text/plain": [
       "1.7724538509055159"
      ]
     },
     "execution_count": 9,
     "metadata": {},
     "output_type": "execute_result"
    }
   ],
   "source": [
    "np.sqrt(np.pi)"
   ]
  },
  {
   "cell_type": "code",
   "execution_count": null,
   "metadata": {
    "collapsed": true
   },
   "outputs": [],
   "source": []
  }
 ],
 "metadata": {
  "kernelspec": {
   "display_name": "Python 2",
   "language": "python",
   "name": "python2"
  },
  "language_info": {
   "codemirror_mode": {
    "name": "ipython",
    "version": 2
   },
   "file_extension": ".py",
   "mimetype": "text/x-python",
   "name": "python",
   "nbconvert_exporter": "python",
   "pygments_lexer": "ipython2",
   "version": "2.7.10"
  }
 },
 "nbformat": 4,
 "nbformat_minor": 0
}
