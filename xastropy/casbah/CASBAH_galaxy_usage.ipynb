{
 "cells": [
  {
   "cell_type": "markdown",
   "metadata": {},
   "source": [
    "# Using the CASBAH Galaxy Database (v1.1)"
   ]
  },
  {
   "cell_type": "code",
   "execution_count": 1,
   "metadata": {
    "collapsed": false
   },
   "outputs": [
    {
     "name": "stdout",
     "output_type": "stream",
     "text": [
      "-----------------------------------------------------------\n",
      "-----------------------------------------------------------\n",
      "WARNING: Not loading model in xastropy.fN   \n",
      " Install pymc if you want it\n",
      "-----------------------------------------------------------\n"
     ]
    },
    {
     "name": "stderr",
     "output_type": "stream",
     "text": [
      "/Users/xavier/anaconda/lib/python2.7/site-packages/astroquery/sdss/__init__.py:33: UserWarning: Experimental: SDSS has not yet been refactored to have its API match the rest of astroquery (but it's nearly there).\n",
      "  warnings.warn(\"Experimental: SDSS has not yet been refactored to have its API \"\n"
     ]
    }
   ],
   "source": [
    "# imports\n",
    "from xastropy.casbah import load_casbah as loadc"
   ]
  },
  {
   "cell_type": "markdown",
   "metadata": {},
   "source": [
    "## Loading a Field"
   ]
  },
  {
   "cell_type": "code",
   "execution_count": 2,
   "metadata": {
    "collapsed": false
   },
   "outputs": [
    {
     "data": {
      "text/plain": [
       "[IgmGalaxyField: PG1407+265 14:09:23.8968 +26:18:21.06]"
      ]
     },
     "execution_count": 2,
     "metadata": {},
     "output_type": "execute_result"
    }
   ],
   "source": [
    "reload(loadc)\n",
    "field = ('PG1407+265',212.34957*u.deg,26.30585*u.deg)\n",
    "pg1407 = loadc.load_field(field)\n",
    "pg1407"
   ]
  },
  {
   "cell_type": "markdown",
   "metadata": {},
   "source": [
    "## Fiddling with Targets"
   ]
  },
  {
   "cell_type": "code",
   "execution_count": 5,
   "metadata": {
    "collapsed": false
   },
   "outputs": [
    {
     "name": "stdout",
     "output_type": "stream",
     "text": [
      "   TARG_RA       TARG_DEC   EPOCH  ...      TARG_IMG     INSTR  MASK_NAME\n",
      "------------- ------------- ------ ... ----------------- ------ ---------\n",
      "212.334796652 26.1000264737 2000.0 ... pg1407.V.mos.fits DEIMOS        --\n",
      " 212.26495629 26.0947721661 2000.0 ... pg1407.V.mos.fits DEIMOS        --\n",
      "212.411925769 26.0947695972 2000.0 ... pg1407.V.mos.fits DEIMOS        --\n",
      "212.406811435 26.0947466244 2000.0 ... pg1407.V.mos.fits DEIMOS        --\n",
      "212.468298212 26.1125385718 2000.0 ... pg1407.V.mos.fits DEIMOS        --\n",
      "   TARG_RA       TARG_DEC   EPOCH ... TARG_IMG   INSTR   MASK_NAME\n",
      "------------- ------------- ----- ... -------- --------- ---------\n",
      "   212.898875 26.3851805556   0.0 ...     SDSS HECTOSPEC        --\n",
      "212.360666667 25.8070055556   0.0 ...     SDSS HECTOSPEC        --\n",
      "212.437791667 26.7986944444   0.0 ...     SDSS HECTOSPEC        --\n",
      "212.072333333 25.8730666667   0.0 ...     SDSS HECTOSPEC        --\n",
      "212.858166667 26.5110333333   0.0 ...     SDSS HECTOSPEC        --\n"
     ]
    }
   ],
   "source": [
    "# Print part of the Table\n",
    "print(pg1407.targets[0:5])\n",
    "print(pg1407.targets[-5:])"
   ]
  },
  {
   "cell_type": "code",
   "execution_count": 6,
   "metadata": {
    "collapsed": false
   },
   "outputs": [
    {
     "name": "stdout",
     "output_type": "stream",
     "text": [
      "   TARG_RA       TARG_DEC   EPOCH  ...   INSTR      MASK_NAME    \n",
      "------------- ------------- ------ ... --------- ----------------\n",
      "  212.3450798 26.2977350919 2000.0 ...    DEIMOS PG1407_may_early\n",
      "212.349635114 26.3031947145 2000.0 ...    DEIMOS PG1407_may_early\n",
      "212.337391682 26.3045728517 2000.0 ...    DEIMOS PG1407_may_early\n",
      "212.356194073 26.3055416055 2000.0 ...    DEIMOS PG1407_may_early\n",
      "212.346660371 26.3058179648 2000.0 ...    DEIMOS PG1407_may_early\n",
      "212.353364192   26.30695742 2000.0 ...    DEIMOS PG1407_may_early\n",
      "212.340282925 26.3091785775 2000.0 ...    DEIMOS PG1407_may_early\n",
      "212.360751519 26.3091848718 2000.0 ...    DEIMOS PG1407_may_early\n",
      "212.333359301 26.3105258669 2000.0 ...    DEIMOS PG1407_may_early\n",
      "212.363869295 26.3104114993 2000.0 ...    DEIMOS PG1407_may_early\n",
      "   212.344125     26.313925    0.0 ... HECTOSPEC         PG1407_1\n",
      "{'PG1407_may_early': ['23-Jul-2015', '24-Jul-2015'], 'PG1407_1': ['03-Jun-2011']}\n"
     ]
    }
   ],
   "source": [
    "# Grab a Table of observed targets\n",
    "obs_targ, obs_dict = pg1407.get_observed(60.*u.arcsec)\n",
    "print(obs_targ)\n",
    "print(obs_dict)"
   ]
  },
  {
   "cell_type": "code",
   "execution_count": 7,
   "metadata": {
    "collapsed": false
   },
   "outputs": [
    {
     "data": {
      "text/html": [
       "&lt;Table masked=True length=10&gt;\n",
       "<table id=\"table4485399120\">\n",
       "<thead><tr><th>TARG_RA</th><th>TARG_DEC</th><th>EPOCH</th><th>TARG_ID</th><th>TARG_MAG</th><th>TARG_IMG</th><th>INSTR</th><th>MASK_NAME</th></tr></thead>\n",
       "<thead><tr><th>float64</th><th>float64</th><th>float64</th><th>int64</th><th>float64</th><th>string136</th><th>string72</th><th>string128</th></tr></thead>\n",
       "<tr><td>212.35151735</td><td>26.2898912193</td><td>2000.0</td><td>4938</td><td>24.2964630127</td><td>pg1407.V.mos.fits</td><td>DEIMOS</td><td>PG1407_may_mid2</td></tr>\n",
       "<tr><td>212.355285727</td><td>26.2911096121</td><td>2000.0</td><td>4995</td><td>23.6295337677</td><td>pg1407.V.mos.fits</td><td>DEIMOS</td><td>--</td></tr>\n",
       "<tr><td>212.341201408</td><td>26.2915820596</td><td>2000.0</td><td>5001</td><td>24.0504817963</td><td>pg1407.V.mos.fits</td><td>DEIMOS</td><td>--</td></tr>\n",
       "<tr><td>212.356272509</td><td>26.2931685439</td><td>2000.0</td><td>5064</td><td>24.0289134979</td><td>pg1407.V.mos.fits</td><td>DEIMOS</td><td>--</td></tr>\n",
       "<tr><td>212.346655836</td><td>26.2928809893</td><td>2000.0</td><td>5065</td><td>23.4802417755</td><td>pg1407.V.mos.fits</td><td>DEIMOS</td><td>--</td></tr>\n",
       "<tr><td>212.360379875</td><td>26.293244236</td><td>2000.0</td><td>5070</td><td>24.1598758698</td><td>pg1407.V.mos.fits</td><td>DEIMOS</td><td>PG1407_may_mid2</td></tr>\n",
       "<tr><td>212.358526791</td><td>26.2924748292</td><td>2000.0</td><td>5104</td><td>21.4820365906</td><td>pg1407.V.mos.fits</td><td>DEIMOS</td><td>--</td></tr>\n",
       "<tr><td>212.353572961</td><td>26.2945607169</td><td>2000.0</td><td>5111</td><td>23.7725048065</td><td>pg1407.V.mos.fits</td><td>DEIMOS</td><td>--</td></tr>\n",
       "<tr><td>212.341155289</td><td>26.2936005555</td><td>2000.0</td><td>5114</td><td>22.9214401245</td><td>pg1407.V.mos.fits</td><td>DEIMOS</td><td>--</td></tr>\n",
       "<tr><td>212.352902082</td><td>26.2953397761</td><td>2000.0</td><td>5115</td><td>24.3561515808</td><td>pg1407.V.mos.fits</td><td>DEIMOS</td><td>--</td></tr>\n",
       "</table>"
      ],
      "text/plain": [
       "<Table masked=True length=10>\n",
       "   TARG_RA       TARG_DEC    EPOCH  ...  INSTR      MASK_NAME   \n",
       "   float64       float64    float64 ... string72    string128   \n",
       "------------- ------------- ------- ... -------- ---------------\n",
       " 212.35151735 26.2898912193  2000.0 ...   DEIMOS PG1407_may_mid2\n",
       "212.355285727 26.2911096121  2000.0 ...   DEIMOS              --\n",
       "212.341201408 26.2915820596  2000.0 ...   DEIMOS              --\n",
       "212.356272509 26.2931685439  2000.0 ...   DEIMOS              --\n",
       "212.346655836 26.2928809893  2000.0 ...   DEIMOS              --\n",
       "212.360379875  26.293244236  2000.0 ...   DEIMOS PG1407_may_mid2\n",
       "212.358526791 26.2924748292  2000.0 ...   DEIMOS              --\n",
       "212.353572961 26.2945607169  2000.0 ...   DEIMOS              --\n",
       "212.341155289 26.2936005555  2000.0 ...   DEIMOS              --\n",
       "212.352902082 26.2953397761  2000.0 ...   DEIMOS              --"
      ]
     },
     "execution_count": 7,
     "metadata": {},
     "output_type": "execute_result"
    }
   ],
   "source": [
    "# Grab unobserved\n",
    "unobs = pg1407.get_unobserved(60.*u.arcsec)\n",
    "unobs[0:10]"
   ]
  },
  {
   "cell_type": "markdown",
   "metadata": {},
   "source": [
    "## Fiddling with Galaxies (SDSS only so far)"
   ]
  },
  {
   "cell_type": "code",
   "execution_count": 85,
   "metadata": {
    "collapsed": false
   },
   "outputs": [
    {
     "data": {
      "text/html": [
       "&lt;Table masked=False length=3&gt;\n",
       "<table id=\"table4486349200\">\n",
       "<thead><tr><th>RA</th><th>DEC</th><th>Z</th><th>Z_ERR</th><th>SDSS_MAG [5]</th><th>SDSS_MAGERR [5]</th><th>TELESCOPE</th><th>INSTRUMENT</th><th>FLUX [5000]</th><th>SIG [5000]</th><th>WAVE [5000]</th></tr></thead>\n",
       "<thead><tr><th>float64</th><th>float64</th><th>float64</th><th>float64</th><th>float64</th><th>float64</th><th>string640</th><th>string640</th><th>float32</th><th>float32</th><th>float64</th></tr></thead>\n",
       "<tr><td>212.366033965</td><td>26.3052041276</td><td>0.677913367748</td><td>0.000208171637496</td><td>22.80081 .. 0.0</td><td>1.602611 .. 0.0</td><td>SDSS 2.5-M</td><td>BOSS</td><td>5.03269 .. 0.0</td><td>2.93976 .. 0.0</td><td>3592.52587891 .. 0.0</td></tr>\n",
       "<tr><td>212.370094746</td><td>26.3254555654</td><td>0.327256381512</td><td>5.58089996048e-05</td><td>21.36104 .. 0.0</td><td>1.245788 .. 0.0</td><td>SDSS 2.5-M</td><td>BOSS</td><td>3.59836 .. 0.0</td><td>3.71348 .. 0.0</td><td>3590.87353516 .. 0.0</td></tr>\n",
       "<tr><td>212.35102636</td><td>26.3415403908</td><td>3.21771526337</td><td>0.000997702358291</td><td>23.70004 .. 0.0</td><td>1.576056 .. 0.0</td><td>SDSS 2.5-M</td><td>BOSS</td><td>3.5592 .. 0.0</td><td>2.65591 .. 0.0</td><td>3592.52587891 .. 0.0</td></tr>\n",
       "</table>"
      ],
      "text/plain": [
       "<Table masked=False length=3>\n",
       "      RA           DEC      ...   SIG [5000]       WAVE [5000]     \n",
       "   float64       float64    ...    float32           float64       \n",
       "------------- ------------- ... -------------- --------------------\n",
       "212.366033965 26.3052041276 ... 2.93976 .. 0.0 3592.52587891 .. 0.0\n",
       "212.370094746 26.3254555654 ... 3.71348 .. 0.0 3590.87353516 .. 0.0\n",
       " 212.35102636 26.3415403908 ... 2.65591 .. 0.0 3592.52587891 .. 0.0"
      ]
     },
     "execution_count": 85,
     "metadata": {},
     "output_type": "execute_result"
    }
   ],
   "source": [
    "# Print a few\n",
    "pg1407.galaxies[0:3]"
   ]
  },
  {
   "cell_type": "code",
   "execution_count": 91,
   "metadata": {
    "collapsed": false
   },
   "outputs": [
    {
     "data": {
      "text/html": [
       "&lt;Table masked=False length=1&gt;\n",
       "<table id=\"table4486360080\">\n",
       "<thead><tr><th>RA</th><th>DEC</th><th>Z</th><th>Z_ERR</th><th>SDSS_MAG [5]</th><th>SDSS_MAGERR [5]</th><th>TELESCOPE</th><th>INSTRUMENT</th><th>FLUX [5000]</th><th>SIG [5000]</th><th>WAVE [5000]</th></tr></thead>\n",
       "<thead><tr><th>float64</th><th>float64</th><th>float64</th><th>float64</th><th>float64</th><th>float64</th><th>string640</th><th>string640</th><th>float32</th><th>float32</th><th>float64</th></tr></thead>\n",
       "<tr><td>212.33310891</td><td>26.3722716934</td><td>0.0595485754311</td><td>8.51674485602e-06</td><td>17.44442 .. 0.0</td><td>0.03323003 .. 0.0</td><td>SDSS 2.5-M</td><td>SDSS</td><td>58.3265 .. 0.0</td><td>7.7108 .. 0.0</td><td>3801.01879883 .. 0.0</td></tr>\n",
       "</table>"
      ],
      "text/plain": [
       "<Table masked=False length=1>\n",
       "     RA           DEC      ...   SIG [5000]      WAVE [5000]     \n",
       "  float64       float64    ...    float32          float64       \n",
       "------------ ------------- ... ------------- --------------------\n",
       "212.33310891 26.3722716934 ... 7.7108 .. 0.0 3801.01879883 .. 0.0"
      ]
     },
     "execution_count": 91,
     "metadata": {},
     "output_type": "execute_result"
    }
   ],
   "source": [
    "# Find a set of associated galaxies\n",
    "close_gal, rho = pg1407.get_associated_galaxies(0.0595486)\n",
    "close_gal"
   ]
  },
  {
   "cell_type": "markdown",
   "metadata": {},
   "source": [
    "## Testing"
   ]
  },
  {
   "cell_type": "code",
   "execution_count": null,
   "metadata": {
    "collapsed": true
   },
   "outputs": [],
   "source": []
  }
 ],
 "metadata": {
  "kernelspec": {
   "display_name": "Python 2",
   "language": "python",
   "name": "python2"
  },
  "language_info": {
   "codemirror_mode": {
    "name": "ipython",
    "version": 2
   },
   "file_extension": ".py",
   "mimetype": "text/x-python",
   "name": "python",
   "nbconvert_exporter": "python",
   "pygments_lexer": "ipython2",
   "version": "2.7.10"
  }
 },
 "nbformat": 4,
 "nbformat_minor": 0
}
